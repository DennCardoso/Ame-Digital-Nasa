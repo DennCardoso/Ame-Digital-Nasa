{
 "nbformat": 4,
 "nbformat_minor": 2,
 "metadata": {
  "language_info": {
   "name": "python",
   "codemirror_mode": {
    "name": "ipython",
    "version": 3
   },
   "version": "3.7.5"
  },
  "orig_nbformat": 2,
  "file_extension": ".py",
  "mimetype": "text/x-python",
  "name": "python",
  "npconvert_exporter": "python",
  "pygments_lexer": "ipython3",
  "version": 3
 },
 "cells": [
  {
   "cell_type": "code",
   "metadata": {},
   "outputs": [],
   "source": [
    "# Ame Digital - Teste Engenheiro de Dados\n",
    "#\n",
    "# Autor: Dennis Cardoso\n",
    "#\n",
    "# E-mail: dennis.cardoso@outlook.com\n",
    "#\n",
    "# Data: 22 de Dezembro de 2019"
   ]
  },
  {
   "cell_type": "code",
   "execution_count": 53,
   "metadata": {},
   "outputs": [],
   "source": [
    "#Bibliotecas importação\n",
    "import re\n",
    "from datetime import datetime\n",
    "from pyspark import SparkContext, SparkConf, SQLContext\n",
    "from pyspark.sql.types import *\n",
    "import pyspark.sql.functions as functions"
   ]
  },
  {
   "cell_type": "code",
   "metadata": {},
   "outputs": [],
   "source": [
    "# Iniciar spark context\n",
    "conf = SparkConf().setMaster('local[*]')\n",
    "sc = SparkContext().getOrCreate(conf)\n",
    "sqlc =  SQLContext(sc)"
   ]
  },
  {
   "cell_type": "code",
   "execution_count": 176,
   "metadata": {},
   "outputs": [],
   "source": [
    "# Declaração do Schema de dados a ser utilizado\n",
    "schema = StructType([StructField('host',StringType(), True),StructField('timestamp',StringType(), True),StructField('request',StringType(), True),StructField('http_code',IntegerType(), True), StructField('total_bytes',IntegerType(), True)])"
   ]
  },
  {
   "cell_type": "code",
   "execution_count": 221,
   "metadata": {},
   "outputs": [],
   "source": [
    "#Função que retorna data a partir de um string\n",
    "def str_date(input_date):\n",
    "        try:\n",
    "            return datetime.fromordinal(input_date).strftime('%d/%m/%Y')\n",
    "        except Exception as e:\n",
    "            return '01/01/1900'"
   ]
  },
  {
   "cell_type": "code",
   "execution_count": 222,
   "metadata": {},
   "outputs": [],
   "source": [
    "# Função para fazer parse dos dados de entrada\n",
    "def parseLog(data):\n",
    "        ''' Read and parse log data '''\n",
    "        RE_MASK = '(.*) - - \\[(.*):(.*):(.*):(.*)\\] \"(.*)\" ([0-9]*) ([0-9]*|-)'\n",
    "\n",
    "        try:\n",
    "            re_result = re.compile(RE_MASK).match(data)\n",
    "            host = re_result.group(1)\n",
    "            ord_day = str_date(datetime.strptime(re_result.group(2), '%d/%b/%Y').toordinal())\n",
    "            req = re_result.group(6)\n",
    "            reply_code = int(re_result.group(7))\n",
    "            \n",
    "            try:\n",
    "                reply_bytes = int(re_result.group(8))\n",
    "            except ValueError as e:\n",
    "                reply_bytes = 0\n",
    "            return host, ord_day, req, reply_code, reply_bytes\n",
    "        \n",
    "        except Exception as e:\n",
    "            return '', -1, '', -1, -1"
   ]
  },
  {
   "cell_type": "code",
   "execution_count": 223,
   "metadata": {},
   "outputs": [
    {
     "data": {
      "text/plain": "('199.72.81.55', '01/07/1995', 'GET /history/apollo/ HTTP/1.0', 200, 6245)"
     },
     "execution_count": 223,
     "metadata": {},
     "output_type": "execute_result"
    }
   ],
   "source": [
    "# Teste da função Parse_log\n",
    "valor = '199.72.81.55 - - [01/Jul/1995:00:00:01 -0400] \"GET /history/apollo/ HTTP/1.0\" 200 6245'\n",
    "resultado = parseLog(valor)\n",
    "resultado"
   ]
  },
  {
   "cell_type": "code",
   "execution_count": 202,
   "metadata": {},
   "outputs": [],
   "source": [
    "# Gerar RDD com dados dos arquivos\n",
    "rows = sc.textFile('files')\n",
    "\n",
    "# Gerar parse dos dados de Log\n",
    "nasa_parse = rows.map(parseLog)\n",
    "\n",
    "# remover linhas com valores inválidos\n",
    "nasa_rdd = nasa_parse.filter(lambda x: x[1] > -1)"
   ]
  },
  {
   "cell_type": "code",
   "execution_count": 203,
   "metadata": {},
   "outputs": [],
   "source": [
    "# Criação do Dataframe\n",
    "nasa_df = sqlc.createDataFrame(nasa_rdd, schema)"
   ]
  },
  {
   "cell_type": "code",
   "execution_count": 205,
   "metadata": {},
   "outputs": [
    {
     "name": "stdout",
     "output_type": "stream",
     "text": "root\n |-- host: string (nullable = true)\n |-- timestamp: string (nullable = true)\n |-- request: string (nullable = true)\n |-- http_code: integer (nullable = true)\n |-- total_bytes: integer (nullable = true)\n\n+--------------------+---------+--------------------+---------+-----------+\n|                host|timestamp|             request|http_code|total_bytes|\n+--------------------+---------+--------------------+---------+-----------+\n|        199.72.81.55|   728475|GET /history/apol...|      200|       6245|\n|unicomp6.unicomp.net|   728475|GET /shuttle/coun...|      200|       3985|\n|      199.120.110.21|   728475|GET /shuttle/miss...|      200|       4085|\n|  burger.letters.com|   728475|GET /shuttle/coun...|      304|          0|\n|      199.120.110.21|   728475|GET /shuttle/miss...|      200|       4179|\n|  burger.letters.com|   728475|GET /images/NASA-...|      304|          0|\n|  burger.letters.com|   728475|GET /shuttle/coun...|      200|          0|\n|     205.212.115.106|   728475|GET /shuttle/coun...|      200|       3985|\n|         d104.aa.net|   728475|GET /shuttle/coun...|      200|       3985|\n|      129.94.144.152|   728475|      GET / HTTP/1.0|      200|       7074|\n|unicomp6.unicomp.net|   728475|GET /shuttle/coun...|      200|      40310|\n|unicomp6.unicomp.net|   728475|GET /images/NASA-...|      200|        786|\n|unicomp6.unicomp.net|   728475|GET /images/KSC-l...|      200|       1204|\n|         d104.aa.net|   728475|GET /shuttle/coun...|      200|      40310|\n|         d104.aa.net|   728475|GET /images/NASA-...|      200|        786|\n|         d104.aa.net|   728475|GET /images/KSC-l...|      200|       1204|\n|      129.94.144.152|   728475|GET /images/ksclo...|      304|          0|\n|      199.120.110.21|   728475|GET /images/launc...|      200|       1713|\n|ppptky391.asahi-n...|   728475|GET /facts/about_...|      200|       3977|\n|  net-1-141.eden.com|   728475|GET /shuttle/miss...|      200|      34029|\n+--------------------+---------+--------------------+---------+-----------+\nonly showing top 20 rows\n\n"
    }
   ],
   "source": [
    "# Schema do dataframe\n",
    "nasa_df.printSchema()\n",
    "nasa_df.select('*').show()"
   ]
  },
  {
   "cell_type": "code",
   "execution_count": 206,
   "metadata": {},
   "outputs": [],
   "source": [
    "# Número de HOSTs únicos\n",
    "hosts_list = nasa_df.groupby('host').agg(functions.count('host').alias('count')).filter(\"count = 1\").count()"
   ]
  },
  {
   "cell_type": "code",
   "execution_count": 207,
   "metadata": {},
   "outputs": [
    {
     "data": {
      "text/plain": "20901"
     },
     "execution_count": 207,
     "metadata": {},
     "output_type": "execute_result"
    }
   ],
   "source": [
    "# Total De error 404 dentro do Periodo\n",
    "total_404_errors = nasa_df.filter(\"http_code = 404\")\n",
    "total_404_errors.count()"
   ]
  },
  {
   "cell_type": "code",
   "execution_count": 163,
   "metadata": {},
   "outputs": [
    {
     "ename": "NameError",
     "evalue": "name 'col' is not defined",
     "output_type": "error",
     "traceback": [
      "\u001b[0;31m---------------------------------------------------------------------------\u001b[0m",
      "\u001b[0;31mNameError\u001b[0m                                 Traceback (most recent call last)",
      "\u001b[0;32m<ipython-input-163-a16ce5f3b167>\u001b[0m in \u001b[0;36m<module>\u001b[0;34m\u001b[0m\n\u001b[1;32m      1\u001b[0m \u001b[0;31m# Quais dias do período especificado tiveram o maior número de erros 404.\u001b[0m\u001b[0;34m\u001b[0m\u001b[0;34m\u001b[0m\u001b[0;34m\u001b[0m\u001b[0m\n\u001b[0;32m----> 2\u001b[0;31m \u001b[0mperiodo_404\u001b[0m \u001b[0;34m=\u001b[0m \u001b[0mtotal_404_errors\u001b[0m\u001b[0;34m.\u001b[0m\u001b[0mwithColumn\u001b[0m\u001b[0;34m(\u001b[0m\u001b[0;34m\"timestamp2\"\u001b[0m\u001b[0;34m,\u001b[0m\u001b[0;34m(\u001b[0m\u001b[0mfunctions\u001b[0m\u001b[0;34m.\u001b[0m\u001b[0mto_date\u001b[0m\u001b[0;34m(\u001b[0m\u001b[0mcol\u001b[0m\u001b[0;34m(\u001b[0m\u001b[0;34m\"timestamp\"\u001b[0m\u001b[0;34m)\u001b[0m\u001b[0;34m)\u001b[0m\u001b[0;34m,\u001b[0m\u001b[0;34m\"DD-MM-YYYY\"\u001b[0m\u001b[0;34m)\u001b[0m\u001b[0;34m)\u001b[0m\u001b[0;34m.\u001b[0m\u001b[0mshow\u001b[0m\u001b[0;34m(\u001b[0m\u001b[0mfalse\u001b[0m\u001b[0;34m)\u001b[0m\u001b[0;34m\u001b[0m\u001b[0;34m\u001b[0m\u001b[0m\n\u001b[0m",
      "\u001b[0;31mNameError\u001b[0m: name 'col' is not defined"
     ]
    }
   ],
   "source": [
    "# Quais dias do período especificado tiveram o maior número de erros 404.\n",
    "periodo_404 = total_404_errors.withColumn(\"timestamp2\",(functions.to_date(col(\"timestamp\")),\"DD-MM-YYYY\")).show(false)"
   ]
  },
  {
   "cell_type": "code",
   "execution_count": 208,
   "metadata": {},
   "outputs": [
    {
     "name": "stdout",
     "output_type": "stream",
     "text": "+--------------------+---------+--------------------+---------+-----------+\n|                host|timestamp|             request|http_code|total_bytes|\n+--------------------+---------+--------------------+---------+-----------+\n|dd15-062.compuser...|   728475|GET /news/sci.spa...|      404|          0|\n|   netport-27.iu.net|   728475|GET /pub/winvn/re...|      404|          0|\n|   netport-27.iu.net|   728475|GET /pub/winvn/re...|      404|          0|\n|blv-pm0-ip28.halc...|   728475|GET /persons/astr...|      404|          0|\n|blv-pm0-ip28.halc...|   728475|GET /persons/astr...|      404|          0|\n|cu-dialup-1005.ci...|   728475|GET /pub/winvn/re...|      404|          0|\n|cu-dialup-1005.ci...|   728475|GET /pub/winvn/re...|      404|          0|\n|cu-dialup-1005.ci...|   728475|GET /pub/winvn/re...|      404|          0|\n|    mimas.execpc.com|   728475|GET /shuttle/miss...|      404|          0|\n|zoom112.telepath.com|   728475|GET /history/apol...|      404|          0|\n|ad08-027.compuser...|   728475|GET /shuttle/miss...|      404|          0|\n|ad08-027.compuser...|   728475|GET /shuttle/miss...|      404|          0|\n|piweba3y.prodigy.com|   728475|GET /shuttle/miss...|      404|          0|\n|piweba3y.prodigy.com|   728475|GET /shuttle/miss...|      404|          0|\n|     204.212.153.234|   728475|GET /pub/winvn/re...|      404|          0|\n|     204.212.153.234|   728475|GET /pub/winvn/re...|      404|          0|\n|ix-wbg-va2-26.ix....|   728475|GET /history/apol...|      404|          0|\n|ix-wbg-va2-26.ix....|   728475|GET /history/apol...|      404|          0|\n|ix-wbg-va2-26.ix....|   728475|GET /history/apol...|      404|          0|\n|ix-wbg-va2-26.ix....|   728475|GET /history/apol...|      404|          0|\n+--------------------+---------+--------------------+---------+-----------+\nonly showing top 20 rows\n\n"
    }
   ],
   "source": [
    "# O total de bytes retornados no período, com uma visão acumulada\n",
    "total_404_errors.select('*').show()"
   ]
  },
  {
   "cell_type": "code",
   "execution_count": null,
   "metadata": {},
   "outputs": [],
   "source": []
  }
 ]
}