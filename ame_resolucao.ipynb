{
 "nbformat": 4,
 "nbformat_minor": 2,
 "metadata": {
  "language_info": {
   "name": "python",
   "codemirror_mode": {
    "name": "ipython",
    "version": 3
   },
   "version": "3.7.5"
  },
  "orig_nbformat": 2,
  "file_extension": ".py",
  "mimetype": "text/x-python",
  "name": "python",
  "npconvert_exporter": "python",
  "pygments_lexer": "ipython3",
  "version": 3
 },
 "cells": [
  {
   "cell_type": "code",
   "execution_count": 1,
   "metadata": {},
   "outputs": [],
   "source": [
    "# Ame Digital - Teste Engenheiro de Dados\n",
    "#\n",
    "# Autor: Dennis Cardoso\n",
    "#\n",
    "# E-mail: dennis.cardoso@outlook.com\n",
    "#\n",
    "# Data: 22 de Dezembro de 2019"
   ]
  },
  {
   "cell_type": "code",
   "execution_count": 2,
   "metadata": {},
   "outputs": [],
   "source": [
    "#Importar biblioteca\n",
    "import re\n",
    "from datetime import datetime\n",
    "from pyspark.sql import Window\n",
    "from pyspark.sql.types import *\n",
    "import pyspark.sql.functions as functions\n",
    "from pyspark import SparkContext, SparkConf, SQLContext"
   ]
  },
  {
   "cell_type": "code",
   "execution_count": 3,
   "metadata": {},
   "outputs": [],
   "source": [
    "# Iniciar spark context\n",
    "conf = SparkConf().setMaster('local[*]')\n",
    "sc = SparkContext().getOrCreate(conf)\n",
    "sqlc =  SQLContext(sc)"
   ]
  },
  {
   "cell_type": "code",
   "execution_count": 4,
   "metadata": {},
   "outputs": [],
   "source": [
    "#Função que retorna String a partir de uma data (ordinal)\n",
    "def str_date(input_date):\n",
    "        try:\n",
    "            return datetime.fromordinal(input_date).strftime('%d-%m-%Y')\n",
    "        except Exception as e:\n",
    "            return '01/01/1900'"
   ]
  },
  {
   "cell_type": "code",
   "execution_count": 5,
   "metadata": {},
   "outputs": [],
   "source": [
    "# Função para fazer parse dos dados de entrada\n",
    "def parseLog(data):\n",
    "        ''' Read and parse log data '''\n",
    "        RE_MASK = '(.*) - - \\[(.*):(.*):(.*):(.*)\\] \"(.*)\" ([0-9]*) ([0-9]*|-)'\n",
    "\n",
    "        try:\n",
    "            re_result = re.compile(RE_MASK).match(data)\n",
    "            host = re_result.group(1)\n",
    "            ord_day = datetime.strptime(re_result.group(2), '%d/%b/%Y').toordinal()\n",
    "            req = re_result.group(6)\n",
    "            reply_code = int(re_result.group(7))\n",
    "            \n",
    "            try:\n",
    "                reply_bytes = int(re_result.group(8))\n",
    "            except ValueError as e:\n",
    "                reply_bytes = 0\n",
    "            return host, ord_day, req, reply_code, reply_bytes\n",
    "        \n",
    "        except Exception as e:\n",
    "            return '', -1, '', -1, -1"
   ]
  },
  {
   "cell_type": "code",
   "execution_count": 6,
   "metadata": {},
   "outputs": [],
   "source": [
    "# Declaração do Schema de dados a ser utilizado\n",
    "schema = StructType([StructField('host',StringType(), True),StructField('timestamp',IntegerType(), True),StructField('request',StringType(), True),StructField('http_code',IntegerType(), True), StructField('total_bytes',IntegerType(), True)])"
   ]
  },
  {
   "cell_type": "code",
   "execution_count": 7,
   "metadata": {},
   "outputs": [],
   "source": [
    "# Gerar RDD com dados dos arquivos\n",
    "rows = sc.textFile('files')\n",
    "\n",
    "# Gerar parse dos dados de Log\n",
    "nasa_parse = rows.map(parseLog)\n",
    "\n",
    "# remover linhas com valores inválidos\n",
    "nasa_rdd = nasa_parse.filter(lambda x: x[1] > -1)"
   ]
  },
  {
   "cell_type": "code",
   "execution_count": 8,
   "metadata": {},
   "outputs": [],
   "source": [
    "# Criação do Dataframe\n",
    "nasa_df = sqlc.createDataFrame(nasa_rdd, schema)"
   ]
  },
  {
   "cell_type": "code",
   "execution_count": 9,
   "metadata": {},
   "outputs": [
    {
     "name": "stdout",
     "output_type": "stream",
     "text": "root\n |-- host: string (nullable = true)\n |-- timestamp: integer (nullable = true)\n |-- request: string (nullable = true)\n |-- http_code: integer (nullable = true)\n |-- total_bytes: integer (nullable = true)\n\n"
    }
   ],
   "source": [
    "# Informativo - Schema do dataframe\n",
    "nasa_df.printSchema()"
   ]
  },
  {
   "cell_type": "code",
   "execution_count": 10,
   "metadata": {},
   "outputs": [],
   "source": [
    "#### 1 - Número de HOSTs únicos (Utilizando Dataframe e SparkSQL)\n",
    "host_number = nasa_df.select('host').distinct().count()"
   ]
  },
  {
   "cell_type": "code",
   "execution_count": 11,
   "metadata": {},
   "outputs": [],
   "source": [
    "#### 2 - Total De error 404 dentro do Periodo (Utilizando Dataframe e SparkSQL)\n",
    "total_404_errors = nasa_df.filter(\"http_code = 404\")\n",
    "total_404_errors_number = total_404_errors.count()"
   ]
  },
  {
   "cell_type": "code",
   "execution_count": 12,
   "metadata": {},
   "outputs": [],
   "source": [
    "#### 3 - Quais dias do período especificado tiveram o maior número de erros 404 (Utilizando rdd e reduceByKey).\n",
    "data_404_rdd = nasa_rdd.filter(lambda y: y[3] == 404).map(lambda x: (x[1], 1)) \n",
    "data_404_count = data_404_rdd.reduceByKey(lambda a, b: a+b).sortBy(keyfunc=lambda l: l[1], ascending=False)\n",
    "data_404_list = data_404_count.collect()"
   ]
  },
  {
   "cell_type": "code",
   "execution_count": 13,
   "metadata": {},
   "outputs": [],
   "source": [
    "#### 3 - Quais dias do período especificado tiveram o maior número de erros 404 (Utilizando Dataframe e SparkSQL).\n",
    "data_404_list = total_404_errors.groupby('timestamp').agg(functions.count('timestamp').alias('count_error')).orderBy('count_error', ascending=False).collect()"
   ]
  },
  {
   "cell_type": "code",
   "execution_count": 14,
   "metadata": {},
   "outputs": [],
   "source": [
    "#### 4 - O total de bytes retornados no período, com uma visão acumulada (Utilizando Dataframe).\n",
    "total_bytes_acc_group = nasa_df.groupby('timestamp').agg(functions.count('total_bytes').alias('sum_bytes'))\n",
    "time = (Window.orderBy('timestamp').rowsBetween(Window.unboundedPreceding, 0))\n",
    "df_cumsum = total_bytes_acc_group.withColumn('cum_sum', functions.sum('sum_bytes').over(time))\n",
    "total_bytes_list = df_cumsum.select(['timestamp','cum_sum']).collect()"
   ]
  },
  {
   "cell_type": "code",
   "execution_count": 15,
   "metadata": {},
   "outputs": [],
   "source": [
    "# Output para o resultado de Total de Error 404 por dia \n",
    "data_404_final = '\\n'\n",
    "for date_count in data_404_list:\n",
    "    data_404_final += 'Dia %s: %d ocorrências de Erro 404 \\n' % (str_date(int(date_count[0])), date_count[1])"
   ]
  },
  {
   "cell_type": "code",
   "execution_count": 16,
   "metadata": {},
   "outputs": [],
   "source": [
    "# Output para o resultado do Total de Bytes acumulado\n",
    "total_bytes_acc = '\\n'\n",
    "for acc_data in total_bytes_list:\n",
    "   total_bytes_acc += 'Dia %s: %d Bytes \\n' % (str_date(int(acc_data[0])), acc_data[1])"
   ]
  },
  {
   "cell_type": "code",
   "execution_count": 17,
   "metadata": {},
   "outputs": [
    {
     "name": "stdout",
     "output_type": "stream",
     "text": "-> 1. Numero de hosts unicos: 137978 \n-> 2. Numero total de erros 404: 20901 \n-> 3. Quais dias do período especificado tiveram o maior número de erros 404 (Lista completa): \nDia 06-07-1995: 640 ocorrências de Erro 404 \nDia 19-07-1995: 639 ocorrências de Erro 404 \nDia 30-08-1995: 571 ocorrências de Erro 404 \nDia 07-07-1995: 570 ocorrências de Erro 404 \nDia 07-08-1995: 537 ocorrências de Erro 404 \nDia 13-07-1995: 532 ocorrências de Erro 404 \nDia 31-08-1995: 526 ocorrências de Erro 404 \nDia 05-07-1995: 497 ocorrências de Erro 404 \nDia 03-07-1995: 474 ocorrências de Erro 404 \nDia 11-07-1995: 471 ocorrências de Erro 404 \nDia 12-07-1995: 471 ocorrências de Erro 404 \nDia 18-07-1995: 465 ocorrências de Erro 404 \nDia 25-07-1995: 461 ocorrências de Erro 404 \nDia 20-07-1995: 428 ocorrências de Erro 404 \nDia 24-08-1995: 420 ocorrências de Erro 404 \nDia 29-08-1995: 420 ocorrências de Erro 404 \nDia 25-08-1995: 415 ocorrências de Erro 404 \nDia 14-07-1995: 413 ocorrências de Erro 404 \nDia 28-08-1995: 410 ocorrências de Erro 404 \nDia 17-07-1995: 406 ocorrências de Erro 404 \nDia 10-07-1995: 398 ocorrências de Erro 404 \nDia 08-08-1995: 391 ocorrências de Erro 404 \nDia 06-08-1995: 373 ocorrências de Erro 404 \nDia 27-08-1995: 370 ocorrências de Erro 404 \nDia 26-08-1995: 366 ocorrências de Erro 404 \nDia 04-07-1995: 359 ocorrências de Erro 404 \nDia 09-07-1995: 348 ocorrências de Erro 404 \nDia 04-08-1995: 346 ocorrências de Erro 404 \nDia 23-08-1995: 345 ocorrências de Erro 404 \nDia 27-07-1995: 336 ocorrências de Erro 404 \nDia 26-07-1995: 336 ocorrências de Erro 404 \nDia 21-07-1995: 334 ocorrências de Erro 404 \nDia 24-07-1995: 328 ocorrências de Erro 404 \nDia 15-08-1995: 327 ocorrências de Erro 404 \nDia 01-07-1995: 316 ocorrências de Erro 404 \nDia 10-08-1995: 315 ocorrências de Erro 404 \nDia 20-08-1995: 312 ocorrências de Erro 404 \nDia 21-08-1995: 305 ocorrências de Erro 404 \nDia 03-08-1995: 304 ocorrências de Erro 404 \nDia 08-07-1995: 302 ocorrências de Erro 404 \nDia 02-07-1995: 291 ocorrências de Erro 404 \nDia 22-08-1995: 288 ocorrências de Erro 404 \nDia 14-08-1995: 287 ocorrências de Erro 404 \nDia 09-08-1995: 279 ocorrências de Erro 404 \nDia 17-08-1995: 271 ocorrências de Erro 404 \nDia 11-08-1995: 263 ocorrências de Erro 404 \nDia 16-08-1995: 259 ocorrências de Erro 404 \nDia 16-07-1995: 257 ocorrências de Erro 404 \nDia 18-08-1995: 256 ocorrências de Erro 404 \nDia 15-07-1995: 254 ocorrências de Erro 404 \nDia 01-08-1995: 243 ocorrências de Erro 404 \nDia 05-08-1995: 236 ocorrências de Erro 404 \nDia 23-07-1995: 233 ocorrências de Erro 404 \nDia 13-08-1995: 216 ocorrências de Erro 404 \nDia 19-08-1995: 209 ocorrências de Erro 404 \nDia 12-08-1995: 196 ocorrências de Erro 404 \nDia 22-07-1995: 192 ocorrências de Erro 404 \nDia 28-07-1995: 94 ocorrências de Erro 404 \n\n-> 4. O total de bytes retornados no período, com uma visão acumulada. \nDia 01-07-1995: 64714 Bytes \nDia 02-07-1995: 124979 Bytes \nDia 03-07-1995: 214563 Bytes \nDia 04-07-1995: 285015 Bytes \nDia 05-07-1995: 379590 Bytes \nDia 06-07-1995: 480550 Bytes \nDia 07-07-1995: 567783 Bytes \nDia 08-07-1995: 606650 Bytes \nDia 09-07-1995: 641922 Bytes \nDia 10-07-1995: 714782 Bytes \nDia 11-07-1995: 795189 Bytes \nDia 12-07-1995: 887725 Bytes \nDia 13-07-1995: 1021928 Bytes \nDia 14-07-1995: 1106031 Bytes \nDia 15-07-1995: 1151563 Bytes \nDia 16-07-1995: 1199417 Bytes \nDia 17-07-1995: 1274398 Bytes \nDia 18-07-1995: 1338680 Bytes \nDia 19-07-1995: 1411418 Bytes \nDia 20-07-1995: 1478011 Bytes \nDia 21-07-1995: 1542640 Bytes \nDia 22-07-1995: 1577907 Bytes \nDia 23-07-1995: 1617106 Bytes \nDia 24-07-1995: 1681365 Bytes \nDia 25-07-1995: 1744064 Bytes \nDia 26-07-1995: 1802913 Bytes \nDia 27-07-1995: 1864593 Bytes \nDia 28-07-1995: 1891714 Bytes \nDia 01-08-1995: 1925710 Bytes \nDia 03-08-1995: 1967098 Bytes \nDia 04-08-1995: 2026655 Bytes \nDia 05-08-1995: 2058548 Bytes \nDia 06-08-1995: 2090968 Bytes \nDia 07-08-1995: 2148330 Bytes \nDia 08-08-1995: 2208487 Bytes \nDia 09-08-1995: 2268945 Bytes \nDia 10-08-1995: 2330193 Bytes \nDia 11-08-1995: 2391439 Bytes \nDia 12-08-1995: 2429510 Bytes \nDia 13-08-1995: 2465990 Bytes \nDia 14-08-1995: 2525868 Bytes \nDia 15-08-1995: 2584715 Bytes \nDia 16-08-1995: 2641368 Bytes \nDia 17-08-1995: 2700356 Bytes \nDia 18-08-1995: 2756602 Bytes \nDia 19-08-1995: 2788696 Bytes \nDia 20-08-1995: 2821659 Bytes \nDia 21-08-1995: 2877199 Bytes \nDia 22-08-1995: 2934961 Bytes \nDia 23-08-1995: 2993058 Bytes \nDia 24-08-1995: 3045610 Bytes \nDia 25-08-1995: 3102931 Bytes \nDia 26-08-1995: 3134539 Bytes \nDia 27-08-1995: 3167362 Bytes \nDia 28-08-1995: 3222858 Bytes \nDia 29-08-1995: 3290846 Bytes \nDia 30-08-1995: 3371487 Bytes \nDia 31-08-1995: 3461612 Bytes \n \n\n"
    }
   ],
   "source": [
    "#gerar mensagem com resultados\n",
    "print('-> 1. Numero de hosts unicos: %s ' % host_number)\n",
    "print('-> 2. Numero total de erros 404: %s ' % total_404_errors_number)\n",
    "print('-> 3. Quais dias do período especificado tiveram o maior número de erros 404 (Lista completa): %s' % data_404_final)\n",
    "print('-> 4. O total de bytes retornados no período, com uma visão acumulada. %s \\n' % total_bytes_acc)"
   ]
  },
  {
   "cell_type": "code",
   "execution_count": null,
   "metadata": {},
   "outputs": [],
   "source": []
  }
 ]
}