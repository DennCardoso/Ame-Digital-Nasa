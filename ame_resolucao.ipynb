{
 "nbformat": 4,
 "nbformat_minor": 2,
 "metadata": {
  "language_info": {
   "name": "python",
   "codemirror_mode": {
    "name": "ipython",
    "version": 3
   },
   "version": "3.7.5"
  },
  "orig_nbformat": 2,
  "file_extension": ".py",
  "mimetype": "text/x-python",
  "name": "python",
  "npconvert_exporter": "python",
  "pygments_lexer": "ipython3",
  "version": 3
 },
 "cells": [
  {
   "cell_type": "code",
   "execution_count": 1,
   "metadata": {},
   "outputs": [],
   "source": [
    "# Ame Digital - Teste Engenheiro de Dados\n",
    "#\n",
    "# Autor: Dennis Cardoso\n",
    "#\n",
    "# E-mail: dennis.cardoso@outlook.com\n",
    "#\n",
    "# Data: 22 de Dezembro de 2019"
   ]
  },
  {
   "cell_type": "code",
   "execution_count": 3,
   "metadata": {},
   "outputs": [],
   "source": [
    "#Bibliotecas importação\n",
    "import re\n",
    "from datetime import datetime\n",
    "from pyspark import SparkContext, SparkConf, SQLContext\n",
    "from pyspark.sql.types import *\n",
    "import pyspark.sql.functions as functions"
   ]
  },
  {
   "cell_type": "code",
   "execution_count": 4,
   "metadata": {},
   "outputs": [],
   "source": [
    "# Iniciar spark context\n",
    "conf = SparkConf().setMaster('local[*]')\n",
    "sc = SparkContext().getOrCreate(conf)\n",
    "sqlc =  SQLContext(sc)"
   ]
  },
  {
   "cell_type": "code",
   "execution_count": 5,
   "metadata": {},
   "outputs": [],
   "source": [
    "# Declaração do Schema de dados a ser utilizado\n",
    "schema = StructType([StructField('host',StringType(), True),StructField('timestamp',StringType(), True),StructField('request',StringType(), True),StructField('http_code',IntegerType(), True), StructField('total_bytes',IntegerType(), True)])"
   ]
  },
  {
   "cell_type": "code",
   "execution_count": 13,
   "metadata": {},
   "outputs": [],
   "source": [
    "#Função que retorna data a partir de um string\n",
    "def str_date(input_date):\n",
    "        try:\n",
    "            return datetime.fromordinal(input_date).strftime('%d/%m/%Y')\n",
    "        except Exception as e:\n",
    "            return '01/01/1900'"
   ]
  },
  {
   "cell_type": "code",
   "execution_count": 14,
   "metadata": {},
   "outputs": [],
   "source": [
    "# Função para fazer parse dos dados de entrada\n",
    "def parseLog(data):\n",
    "        ''' Read and parse log data '''\n",
    "        RE_MASK = '(.*) - - \\[(.*):(.*):(.*):(.*)\\] \"(.*)\" ([0-9]*) ([0-9]*|-)'\n",
    "\n",
    "        try:\n",
    "            re_result = re.compile(RE_MASK).match(data)\n",
    "            host = re_result.group(1)\n",
    "            ord_day = str_date(datetime.strptime(re_result.group(2), '%d/%b/%Y').toordinal())\n",
    "            req = re_result.group(6)\n",
    "            reply_code = int(re_result.group(7))\n",
    "            \n",
    "            try:\n",
    "                reply_bytes = int(re_result.group(8))\n",
    "            except ValueError as e:\n",
    "                reply_bytes = 0\n",
    "            return host, ord_day, req, reply_code, reply_bytes\n",
    "        \n",
    "        except Exception as e:\n",
    "            return '', -1, '', -1, -1"
   ]
  },
  {
   "cell_type": "code",
   "execution_count": 8,
   "metadata": {},
   "outputs": [
    {
     "data": {
      "text/plain": "('199.72.81.55', '01/07/1995', 'GET /history/apollo/ HTTP/1.0', 200, 6245)"
     },
     "execution_count": 8,
     "metadata": {},
     "output_type": "execute_result"
    }
   ],
   "source": [
    "# Teste da função Parse_log\n",
    "valor = '199.72.81.55 - - [01/Jul/1995:00:00:01 -0400] \"GET /history/apollo/ HTTP/1.0\" 200 6245'\n",
    "resultado = parseLog(valor)\n",
    "resultado"
   ]
  },
  {
   "cell_type": "code",
   "execution_count": 17,
   "metadata": {},
   "outputs": [],
   "source": [
    "# Gerar RDD com dados dos arquivos\n",
    "rows = sc.textFile('files')\n",
    "\n",
    "# Gerar parse dos dados de Log\n",
    "nasa_parse = rows.map(parseLog)\n",
    "\n",
    "# remover linhas com valores inválidos\n",
    "nasa_rdd = nasa_parse.filter(lambda x: x[3] > -1)"
   ]
  },
  {
   "cell_type": "code",
   "execution_count": 19,
   "metadata": {},
   "outputs": [],
   "source": [
    "# Criação do Dataframe\n",
    "nasa_df = sqlc.createDataFrame(nasa_rdd, schema)"
   ]
  },
  {
   "cell_type": "code",
   "execution_count": 21,
   "metadata": {},
   "outputs": [
    {
     "name": "stdout",
     "output_type": "stream",
     "text": "root\n |-- host: string (nullable = true)\n |-- timestamp: string (nullable = true)\n |-- request: string (nullable = true)\n |-- http_code: integer (nullable = true)\n |-- total_bytes: integer (nullable = true)\n\n+--------------------+----------+--------------------+---------+-----------+\n|                host| timestamp|             request|http_code|total_bytes|\n+--------------------+----------+--------------------+---------+-----------+\n|        199.72.81.55|01/07/1995|GET /history/apol...|      200|       6245|\n|unicomp6.unicomp.net|01/07/1995|GET /shuttle/coun...|      200|       3985|\n|      199.120.110.21|01/07/1995|GET /shuttle/miss...|      200|       4085|\n|  burger.letters.com|01/07/1995|GET /shuttle/coun...|      304|          0|\n|      199.120.110.21|01/07/1995|GET /shuttle/miss...|      200|       4179|\n|  burger.letters.com|01/07/1995|GET /images/NASA-...|      304|          0|\n|  burger.letters.com|01/07/1995|GET /shuttle/coun...|      200|          0|\n|     205.212.115.106|01/07/1995|GET /shuttle/coun...|      200|       3985|\n|         d104.aa.net|01/07/1995|GET /shuttle/coun...|      200|       3985|\n|      129.94.144.152|01/07/1995|      GET / HTTP/1.0|      200|       7074|\n|unicomp6.unicomp.net|01/07/1995|GET /shuttle/coun...|      200|      40310|\n|unicomp6.unicomp.net|01/07/1995|GET /images/NASA-...|      200|        786|\n|unicomp6.unicomp.net|01/07/1995|GET /images/KSC-l...|      200|       1204|\n|         d104.aa.net|01/07/1995|GET /shuttle/coun...|      200|      40310|\n|         d104.aa.net|01/07/1995|GET /images/NASA-...|      200|        786|\n|         d104.aa.net|01/07/1995|GET /images/KSC-l...|      200|       1204|\n|      129.94.144.152|01/07/1995|GET /images/ksclo...|      304|          0|\n|      199.120.110.21|01/07/1995|GET /images/launc...|      200|       1713|\n|ppptky391.asahi-n...|01/07/1995|GET /facts/about_...|      200|       3977|\n|  net-1-141.eden.com|01/07/1995|GET /shuttle/miss...|      200|      34029|\n+--------------------+----------+--------------------+---------+-----------+\nonly showing top 20 rows\n\n"
    }
   ],
   "source": [
    "# Schema do dataframe\n",
    "nasa_df.printSchema()\n",
    "nasa_df.select('*').show()"
   ]
  },
  {
   "cell_type": "code",
   "execution_count": 22,
   "metadata": {},
   "outputs": [],
   "source": [
    "# Número de HOSTs únicos\n",
    "hosts_list = nasa_df.groupby('host').agg(functions.count('host').alias('count')).filter(\"count = 1\").count()"
   ]
  },
  {
   "cell_type": "code",
   "execution_count": 23,
   "metadata": {},
   "outputs": [
    {
     "data": {
      "text/plain": "20901"
     },
     "execution_count": 23,
     "metadata": {},
     "output_type": "execute_result"
    }
   ],
   "source": [
    "# Total De error 404 dentro do Periodo\n",
    "total_404_errors = nasa_df.filter(\"http_code = 404\")\n",
    "total_404_errors.count()"
   ]
  },
  {
   "cell_type": "code",
   "execution_count": 31,
   "metadata": {},
   "outputs": [],
   "source": [
    "# Quais dias do período especificado tiveram o maior número de erros 404.\n",
    "data_404_rdd = nasa_rdd.map(lambda x: (x[1], 1)) \n",
    "data_404_counts = data_404_rdd.reduceByKey(lambda a, b: a+b).sortBy(keyfunc=lambda l: l[1], ascending=False)"
   ]
  },
  {
   "cell_type": "code",
   "execution_count": 39,
   "metadata": {},
   "outputs": [
    {
     "name": "stdout",
     "output_type": "stream",
     "text": "Dia 13/07/1995 : 134203 ocorrências 404\nDia 06/07/1995 : 100960 ocorrências 404\nDia 05/07/1995 : 94575 ocorrências 404\nDia 12/07/1995 : 92536 ocorrências 404\nDia 31/08/1995 : 90125 ocorrências 404\n"
    }
   ],
   "source": [
    "data_404_list = data_404_counts.take(5)\n",
    "for i in data_404_list:\n",
    "    print('Dia '+i[0]+\" : \"+str(i[1])+\" ocorrências 404\")"
   ]
  },
  {
   "cell_type": "code",
   "execution_count": 0,
   "metadata": {},
   "outputs": [],
   "source": [
    "# O total de bytes retornados no período, com uma visão acumulada\n",
    "total_404_errors.select('*').show()"
   ]
  }
 ]
}